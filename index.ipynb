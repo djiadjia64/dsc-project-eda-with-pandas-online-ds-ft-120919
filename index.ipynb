{
 "cells": [
  {
   "cell_type": "markdown",
   "metadata": {},
   "source": [
    "# Project - EDA with Pandas Using the Boston Housing Data\n",
    "\n",
    "## Introduction\n",
    "\n",
    "In this section, you've learned a lot about importing, cleaning up, analyzing (using descriptive statistics) and visualizing data. In this more free-form project, you'll get a chance to practice all of these skills with the Boston Housing dataset, which contains housing values in the suburbs of Boston. The Boston housing data is commonly used by aspiring Data Scientists.\n",
    "\n",
    "## Objectives\n",
    "\n",
    "You will be able to:\n",
    "\n",
    "* Perform a full exploratory data analysis process to gain insight about a dataset \n",
    "\n",
    "## Goals\n",
    "\n",
    "Use your data munging and visualization skills to conduct an exploratory analysis of the dataset below. At a minimum, this should include:\n",
    "\n",
    "* Loading the data (which is stored in the file `'train.csv'`) \n",
    "* Use built-in Python functions to explore measures of centrality and dispersion for at least 3 variables\n",
    "* Create *meaningful* subsets of the data using selection operations like `.loc`, `.iloc`, or related operations.   Explain why you used the chosen subsets and do this for three possible 2-way splits. State how you think the two measures of centrality and/or dispersion might be different for each subset of the data. Examples of potential splits:\n",
    "    - Create two new DataFrames based on your existing data, where one contains all the properties next to the Charles river, and the other one contains properties that aren't \n",
    "    - Create two new DataFrames based on a certain split for crime rate \n",
    "* Next, use histograms and scatter plots to see whether you observe differences for the subsets of the data. Make sure to use subplots so it is easy to compare the relationships.\n",
    "\n",
    "## Variable Descriptions\n",
    "\n",
    "This DataFrame contains the following columns:\n",
    "\n",
    "- `crim`: per capita crime rate by town  \n",
    "- `zn`: proportion of residential land zoned for lots over 25,000 sq.ft  \n",
    "- `indus`: proportion of non-retail business acres per town   \n",
    "- `chas`: Charles River dummy variable (= 1 if tract bounds river; 0 otherwise)  \n",
    "- `nox`: nitrogen oxide concentration (parts per 10 million)   \n",
    "- `rm`: average number of rooms per dwelling   \n",
    "- `age`: proportion of owner-occupied units built prior to 1940  \n",
    "- `dis`: weighted mean of distances to five Boston employment centers   \n",
    "- `rad`: index of accessibility to radial highways   \n",
    "- `tax`: full-value property-tax rate per \\$10,000   \n",
    "- `ptratio`: pupil-teacher ratio by town    \n",
    "- `b`: 1000(Bk - 0.63)^2 where Bk is the proportion of African American individuals by town   \n",
    "- `lstat`: lower status of the population (percent)   \n",
    "- `medv`: median value of owner-occupied homes in $10000s \n",
    "  \n",
    "    \n",
    "Source\n",
    "Harrison, D. and Rubinfeld, D.L. (1978) Hedonic prices and the demand for clean air. J. Environ. Economics and Management 5, 81–102.\n",
    "\n",
    "Belsley D.A., Kuh, E. and Welsch, R.E. (1980) Regression Diagnostics. Identifying Influential Data and Sources of Collinearity. New York: Wiley.\n"
   ]
  },
  {
   "cell_type": "code",
   "execution_count": 2,
   "metadata": {},
   "outputs": [
    {
     "data": {
      "text/plain": [
       "array([[<matplotlib.axes._subplots.AxesSubplot object at 0x000002D0C86000B8>,\n",
       "        <matplotlib.axes._subplots.AxesSubplot object at 0x000002D0C88A22E8>,\n",
       "        <matplotlib.axes._subplots.AxesSubplot object at 0x000002D0C88D7898>,\n",
       "        <matplotlib.axes._subplots.AxesSubplot object at 0x000002D0C8908E48>,\n",
       "        <matplotlib.axes._subplots.AxesSubplot object at 0x000002D0C8944438>,\n",
       "        <matplotlib.axes._subplots.AxesSubplot object at 0x000002D0C89749E8>,\n",
       "        <matplotlib.axes._subplots.AxesSubplot object at 0x000002D0C89A7F98>,\n",
       "        <matplotlib.axes._subplots.AxesSubplot object at 0x000002D0C89E45C0>,\n",
       "        <matplotlib.axes._subplots.AxesSubplot object at 0x000002D0C89E45F8>,\n",
       "        <matplotlib.axes._subplots.AxesSubplot object at 0x000002D0C8A51128>,\n",
       "        <matplotlib.axes._subplots.AxesSubplot object at 0x000002D0C8A7F6D8>,\n",
       "        <matplotlib.axes._subplots.AxesSubplot object at 0x000002D0C8AAFC88>,\n",
       "        <matplotlib.axes._subplots.AxesSubplot object at 0x000002D0C8AEE278>,\n",
       "        <matplotlib.axes._subplots.AxesSubplot object at 0x000002D0C8B1E828>,\n",
       "        <matplotlib.axes._subplots.AxesSubplot object at 0x000002D0C8B51DD8>],\n",
       "       [<matplotlib.axes._subplots.AxesSubplot object at 0x000002D0C8B8F3C8>,\n",
       "        <matplotlib.axes._subplots.AxesSubplot object at 0x000002D0C8BBF978>,\n",
       "        <matplotlib.axes._subplots.AxesSubplot object at 0x000002D0C8BEEF28>,\n",
       "        <matplotlib.axes._subplots.AxesSubplot object at 0x000002D0C8C2C518>,\n",
       "        <matplotlib.axes._subplots.AxesSubplot object at 0x000002D0C8C5DAC8>,\n",
       "        <matplotlib.axes._subplots.AxesSubplot object at 0x000002D0C8C9B0B8>,\n",
       "        <matplotlib.axes._subplots.AxesSubplot object at 0x000002D0C8CCC668>,\n",
       "        <matplotlib.axes._subplots.AxesSubplot object at 0x000002D0C8CFCC18>,\n",
       "        <matplotlib.axes._subplots.AxesSubplot object at 0x000002D0C8D3B208>,\n",
       "        <matplotlib.axes._subplots.AxesSubplot object at 0x000002D0C8D687B8>,\n",
       "        <matplotlib.axes._subplots.AxesSubplot object at 0x000002D0C8D9AD68>,\n",
       "        <matplotlib.axes._subplots.AxesSubplot object at 0x000002D0C8DD7358>,\n",
       "        <matplotlib.axes._subplots.AxesSubplot object at 0x000002D0C8E04908>,\n",
       "        <matplotlib.axes._subplots.AxesSubplot object at 0x000002D0C8E39EB8>,\n",
       "        <matplotlib.axes._subplots.AxesSubplot object at 0x000002D0C8E734A8>],\n",
       "       [<matplotlib.axes._subplots.AxesSubplot object at 0x000002D0C8EA5A58>,\n",
       "        <matplotlib.axes._subplots.AxesSubplot object at 0x000002D0C8EE3048>,\n",
       "        <matplotlib.axes._subplots.AxesSubplot object at 0x000002D0C8F125F8>,\n",
       "        <matplotlib.axes._subplots.AxesSubplot object at 0x000002D0C8F45BA8>,\n",
       "        <matplotlib.axes._subplots.AxesSubplot object at 0x000002D0C8F81198>,\n",
       "        <matplotlib.axes._subplots.AxesSubplot object at 0x000002D0C8FB1748>,\n",
       "        <matplotlib.axes._subplots.AxesSubplot object at 0x000002D0C8FE2CF8>,\n",
       "        <matplotlib.axes._subplots.AxesSubplot object at 0x000002D0C901E2E8>,\n",
       "        <matplotlib.axes._subplots.AxesSubplot object at 0x000002D0C9050898>,\n",
       "        <matplotlib.axes._subplots.AxesSubplot object at 0x000002D0C9082E48>,\n",
       "        <matplotlib.axes._subplots.AxesSubplot object at 0x000002D0C90BE438>,\n",
       "        <matplotlib.axes._subplots.AxesSubplot object at 0x000002D0C90EE9E8>,\n",
       "        <matplotlib.axes._subplots.AxesSubplot object at 0x000002D0C9122F98>,\n",
       "        <matplotlib.axes._subplots.AxesSubplot object at 0x000002D0C915B588>,\n",
       "        <matplotlib.axes._subplots.AxesSubplot object at 0x000002D0C918CB38>],\n",
       "       [<matplotlib.axes._subplots.AxesSubplot object at 0x000002D0C91CC128>,\n",
       "        <matplotlib.axes._subplots.AxesSubplot object at 0x000002D0C91FA6D8>,\n",
       "        <matplotlib.axes._subplots.AxesSubplot object at 0x000002D0C922AC88>,\n",
       "        <matplotlib.axes._subplots.AxesSubplot object at 0x000002D0C9268278>,\n",
       "        <matplotlib.axes._subplots.AxesSubplot object at 0x000002D0C9297828>,\n",
       "        <matplotlib.axes._subplots.AxesSubplot object at 0x000002D0C92CADD8>,\n",
       "        <matplotlib.axes._subplots.AxesSubplot object at 0x000002D0C93073C8>,\n",
       "        <matplotlib.axes._subplots.AxesSubplot object at 0x000002D0C9339978>,\n",
       "        <matplotlib.axes._subplots.AxesSubplot object at 0x000002D0C9369F28>,\n",
       "        <matplotlib.axes._subplots.AxesSubplot object at 0x000002D0C93A5518>,\n",
       "        <matplotlib.axes._subplots.AxesSubplot object at 0x000002D0C93D4AC8>,\n",
       "        <matplotlib.axes._subplots.AxesSubplot object at 0x000002D0C94120B8>,\n",
       "        <matplotlib.axes._subplots.AxesSubplot object at 0x000002D0C9442668>,\n",
       "        <matplotlib.axes._subplots.AxesSubplot object at 0x000002D0C9472C18>,\n",
       "        <matplotlib.axes._subplots.AxesSubplot object at 0x000002D0C94B2208>],\n",
       "       [<matplotlib.axes._subplots.AxesSubplot object at 0x000002D0C94E17B8>,\n",
       "        <matplotlib.axes._subplots.AxesSubplot object at 0x000002D0C9513D68>,\n",
       "        <matplotlib.axes._subplots.AxesSubplot object at 0x000002D0C954F358>,\n",
       "        <matplotlib.axes._subplots.AxesSubplot object at 0x000002D0C9580908>,\n",
       "        <matplotlib.axes._subplots.AxesSubplot object at 0x000002D0C95B2EB8>,\n",
       "        <matplotlib.axes._subplots.AxesSubplot object at 0x000002D0C95EE4A8>,\n",
       "        <matplotlib.axes._subplots.AxesSubplot object at 0x000002D0C961FA58>,\n",
       "        <matplotlib.axes._subplots.AxesSubplot object at 0x000002D0C965B048>,\n",
       "        <matplotlib.axes._subplots.AxesSubplot object at 0x000002D0C968C5F8>,\n",
       "        <matplotlib.axes._subplots.AxesSubplot object at 0x000002D0C96BCBA8>,\n",
       "        <matplotlib.axes._subplots.AxesSubplot object at 0x000002D0C96F9198>,\n",
       "        <matplotlib.axes._subplots.AxesSubplot object at 0x000002D0C9728748>,\n",
       "        <matplotlib.axes._subplots.AxesSubplot object at 0x000002D0C975BCF8>,\n",
       "        <matplotlib.axes._subplots.AxesSubplot object at 0x000002D0C97982E8>,\n",
       "        <matplotlib.axes._subplots.AxesSubplot object at 0x000002D0C97C7898>],\n",
       "       [<matplotlib.axes._subplots.AxesSubplot object at 0x000002D0C97F9E48>,\n",
       "        <matplotlib.axes._subplots.AxesSubplot object at 0x000002D0CA804438>,\n",
       "        <matplotlib.axes._subplots.AxesSubplot object at 0x000002D0CA8349E8>,\n",
       "        <matplotlib.axes._subplots.AxesSubplot object at 0x000002D0CA86AF98>,\n",
       "        <matplotlib.axes._subplots.AxesSubplot object at 0x000002D0CA8A5588>,\n",
       "        <matplotlib.axes._subplots.AxesSubplot object at 0x000002D0CA8D5B38>,\n",
       "        <matplotlib.axes._subplots.AxesSubplot object at 0x000002D0CA912128>,\n",
       "        <matplotlib.axes._subplots.AxesSubplot object at 0x000002D0CA9426D8>,\n",
       "        <matplotlib.axes._subplots.AxesSubplot object at 0x000002D0CA972C88>,\n",
       "        <matplotlib.axes._subplots.AxesSubplot object at 0x000002D0CA9B1278>,\n",
       "        <matplotlib.axes._subplots.AxesSubplot object at 0x000002D0CA9E1828>,\n",
       "        <matplotlib.axes._subplots.AxesSubplot object at 0x000002D0CAA14DD8>,\n",
       "        <matplotlib.axes._subplots.AxesSubplot object at 0x000002D0CAA513C8>,\n",
       "        <matplotlib.axes._subplots.AxesSubplot object at 0x000002D0CAA7F978>,\n",
       "        <matplotlib.axes._subplots.AxesSubplot object at 0x000002D0CAAB1F28>],\n",
       "       [<matplotlib.axes._subplots.AxesSubplot object at 0x000002D0CAAEE518>,\n",
       "        <matplotlib.axes._subplots.AxesSubplot object at 0x000002D0CAB1EAC8>,\n",
       "        <matplotlib.axes._subplots.AxesSubplot object at 0x000002D0CAB5E0B8>,\n",
       "        <matplotlib.axes._subplots.AxesSubplot object at 0x000002D0CAB8B668>,\n",
       "        <matplotlib.axes._subplots.AxesSubplot object at 0x000002D0CABBBC18>,\n",
       "        <matplotlib.axes._subplots.AxesSubplot object at 0x000002D0CABF9208>,\n",
       "        <matplotlib.axes._subplots.AxesSubplot object at 0x000002D0CAC2A7B8>,\n",
       "        <matplotlib.axes._subplots.AxesSubplot object at 0x000002D0CAC5BD68>,\n",
       "        <matplotlib.axes._subplots.AxesSubplot object at 0x000002D0CAC98358>,\n",
       "        <matplotlib.axes._subplots.AxesSubplot object at 0x000002D0CACC8908>,\n",
       "        <matplotlib.axes._subplots.AxesSubplot object at 0x000002D0CACF8EB8>,\n",
       "        <matplotlib.axes._subplots.AxesSubplot object at 0x000002D0CAD364A8>,\n",
       "        <matplotlib.axes._subplots.AxesSubplot object at 0x000002D0CAD65A58>,\n",
       "        <matplotlib.axes._subplots.AxesSubplot object at 0x000002D0CADA8048>,\n",
       "        <matplotlib.axes._subplots.AxesSubplot object at 0x000002D0CADD75F8>],\n",
       "       [<matplotlib.axes._subplots.AxesSubplot object at 0x000002D0CAE06BA8>,\n",
       "        <matplotlib.axes._subplots.AxesSubplot object at 0x000002D0CAE43198>,\n",
       "        <matplotlib.axes._subplots.AxesSubplot object at 0x000002D0CAE74748>,\n",
       "        <matplotlib.axes._subplots.AxesSubplot object at 0x000002D0CAEA6CF8>,\n",
       "        <matplotlib.axes._subplots.AxesSubplot object at 0x000002D0CAEE02E8>,\n",
       "        <matplotlib.axes._subplots.AxesSubplot object at 0x000002D0CAF13898>,\n",
       "        <matplotlib.axes._subplots.AxesSubplot object at 0x000002D0CAF44E48>,\n",
       "        <matplotlib.axes._subplots.AxesSubplot object at 0x000002D0CAF7F438>,\n",
       "        <matplotlib.axes._subplots.AxesSubplot object at 0x000002D0CAFB19E8>,\n",
       "        <matplotlib.axes._subplots.AxesSubplot object at 0x000002D0CAFE3F98>,\n",
       "        <matplotlib.axes._subplots.AxesSubplot object at 0x000002D0CB01E588>,\n",
       "        <matplotlib.axes._subplots.AxesSubplot object at 0x000002D0CB04EB38>,\n",
       "        <matplotlib.axes._subplots.AxesSubplot object at 0x000002D0CB08E128>,\n",
       "        <matplotlib.axes._subplots.AxesSubplot object at 0x000002D0CB0BC6D8>,\n",
       "        <matplotlib.axes._subplots.AxesSubplot object at 0x000002D0CB0EDC88>],\n",
       "       [<matplotlib.axes._subplots.AxesSubplot object at 0x000002D0CB12B278>,\n",
       "        <matplotlib.axes._subplots.AxesSubplot object at 0x000002D0CB158828>,\n",
       "        <matplotlib.axes._subplots.AxesSubplot object at 0x000002D0CB18CDD8>,\n",
       "        <matplotlib.axes._subplots.AxesSubplot object at 0x000002D0CB1C83C8>,\n",
       "        <matplotlib.axes._subplots.AxesSubplot object at 0x000002D0CB1F9978>,\n",
       "        <matplotlib.axes._subplots.AxesSubplot object at 0x000002D0CB22BF28>,\n",
       "        <matplotlib.axes._subplots.AxesSubplot object at 0x000002D0CB265518>,\n",
       "        <matplotlib.axes._subplots.AxesSubplot object at 0x000002D0CB297AC8>,\n",
       "        <matplotlib.axes._subplots.AxesSubplot object at 0x000002D0CB2D50B8>,\n",
       "        <matplotlib.axes._subplots.AxesSubplot object at 0x000002D0CB304668>,\n",
       "        <matplotlib.axes._subplots.AxesSubplot object at 0x000002D0CB333C18>,\n",
       "        <matplotlib.axes._subplots.AxesSubplot object at 0x000002D0CB375208>,\n",
       "        <matplotlib.axes._subplots.AxesSubplot object at 0x000002D0CB3A57B8>,\n",
       "        <matplotlib.axes._subplots.AxesSubplot object at 0x000002D0CB3D4D68>,\n",
       "        <matplotlib.axes._subplots.AxesSubplot object at 0x000002D0CB413358>],\n",
       "       [<matplotlib.axes._subplots.AxesSubplot object at 0x000002D0CB43F908>,\n",
       "        <matplotlib.axes._subplots.AxesSubplot object at 0x000002D0CB474EB8>,\n",
       "        <matplotlib.axes._subplots.AxesSubplot object at 0x000002D0CB4B34A8>,\n",
       "        <matplotlib.axes._subplots.AxesSubplot object at 0x000002D0CB4DFA58>,\n",
       "        <matplotlib.axes._subplots.AxesSubplot object at 0x000002D0CB51E048>,\n",
       "        <matplotlib.axes._subplots.AxesSubplot object at 0x000002D0CB54E5F8>,\n",
       "        <matplotlib.axes._subplots.AxesSubplot object at 0x000002D0CB57EBA8>,\n",
       "        <matplotlib.axes._subplots.AxesSubplot object at 0x000002D0CB5BA198>,\n",
       "        <matplotlib.axes._subplots.AxesSubplot object at 0x000002D0CB5EC748>,\n",
       "        <matplotlib.axes._subplots.AxesSubplot object at 0x000002D0CB61ECF8>,\n",
       "        <matplotlib.axes._subplots.AxesSubplot object at 0x000002D0CB6592E8>,\n",
       "        <matplotlib.axes._subplots.AxesSubplot object at 0x000002D0CB68A898>,\n",
       "        <matplotlib.axes._subplots.AxesSubplot object at 0x000002D0CB6BAE48>,\n",
       "        <matplotlib.axes._subplots.AxesSubplot object at 0x000002D0CB6F7438>,\n",
       "        <matplotlib.axes._subplots.AxesSubplot object at 0x000002D0CB7279E8>],\n",
       "       [<matplotlib.axes._subplots.AxesSubplot object at 0x000002D0CB75BF98>,\n",
       "        <matplotlib.axes._subplots.AxesSubplot object at 0x000002D0CB798588>,\n",
       "        <matplotlib.axes._subplots.AxesSubplot object at 0x000002D0CB7C6B38>,\n",
       "        <matplotlib.axes._subplots.AxesSubplot object at 0x000002D0CB806128>,\n",
       "        <matplotlib.axes._subplots.AxesSubplot object at 0x000002D0CB8346D8>,\n",
       "        <matplotlib.axes._subplots.AxesSubplot object at 0x000002D0CB865C88>,\n",
       "        <matplotlib.axes._subplots.AxesSubplot object at 0x000002D0CB8A3278>,\n",
       "        <matplotlib.axes._subplots.AxesSubplot object at 0x000002D0CB8D2828>,\n",
       "        <matplotlib.axes._subplots.AxesSubplot object at 0x000002D0CB906DD8>,\n",
       "        <matplotlib.axes._subplots.AxesSubplot object at 0x000002D0CB9413C8>,\n",
       "        <matplotlib.axes._subplots.AxesSubplot object at 0x000002D0CB971978>,\n",
       "        <matplotlib.axes._subplots.AxesSubplot object at 0x000002D0CB9A2F28>,\n",
       "        <matplotlib.axes._subplots.AxesSubplot object at 0x000002D0CB9DE518>,\n",
       "        <matplotlib.axes._subplots.AxesSubplot object at 0x000002D0CBA0FAC8>,\n",
       "        <matplotlib.axes._subplots.AxesSubplot object at 0x000002D0CBA4F0B8>],\n",
       "       [<matplotlib.axes._subplots.AxesSubplot object at 0x000002D0CBA7E668>,\n",
       "        <matplotlib.axes._subplots.AxesSubplot object at 0x000002D0CBAADC18>,\n",
       "        <matplotlib.axes._subplots.AxesSubplot object at 0x000002D0CBAEC208>,\n",
       "        <matplotlib.axes._subplots.AxesSubplot object at 0x000002D0CBB1B7B8>,\n",
       "        <matplotlib.axes._subplots.AxesSubplot object at 0x000002D0CBB4CD68>,\n",
       "        <matplotlib.axes._subplots.AxesSubplot object at 0x000002D0CBB8B358>,\n",
       "        <matplotlib.axes._subplots.AxesSubplot object at 0x000002D0CBBB9908>,\n",
       "        <matplotlib.axes._subplots.AxesSubplot object at 0x000002D0CBBEBEB8>,\n",
       "        <matplotlib.axes._subplots.AxesSubplot object at 0x000002D0CBC284A8>,\n",
       "        <matplotlib.axes._subplots.AxesSubplot object at 0x000002D0CBC58A58>,\n",
       "        <matplotlib.axes._subplots.AxesSubplot object at 0x000002D0CBC96048>,\n",
       "        <matplotlib.axes._subplots.AxesSubplot object at 0x000002D0CBCC85F8>,\n",
       "        <matplotlib.axes._subplots.AxesSubplot object at 0x000002D0CBCF9BA8>,\n",
       "        <matplotlib.axes._subplots.AxesSubplot object at 0x000002D0CBD36198>,\n",
       "        <matplotlib.axes._subplots.AxesSubplot object at 0x000002D0CBD65748>],\n",
       "       [<matplotlib.axes._subplots.AxesSubplot object at 0x000002D0CBD98CF8>,\n",
       "        <matplotlib.axes._subplots.AxesSubplot object at 0x000002D0CBDD32E8>,\n",
       "        <matplotlib.axes._subplots.AxesSubplot object at 0x000002D0CBE03898>,\n",
       "        <matplotlib.axes._subplots.AxesSubplot object at 0x000002D0CBE35E48>,\n",
       "        <matplotlib.axes._subplots.AxesSubplot object at 0x000002D0CBE71438>,\n",
       "        <matplotlib.axes._subplots.AxesSubplot object at 0x000002D0CBEA19E8>,\n",
       "        <matplotlib.axes._subplots.AxesSubplot object at 0x000002D0CBED4F98>,\n",
       "        <matplotlib.axes._subplots.AxesSubplot object at 0x000002D0CBF0F588>,\n",
       "        <matplotlib.axes._subplots.AxesSubplot object at 0x000002D0CBF40B38>,\n",
       "        <matplotlib.axes._subplots.AxesSubplot object at 0x000002D0CBF7F128>,\n",
       "        <matplotlib.axes._subplots.AxesSubplot object at 0x000002D0CBFAE6D8>,\n",
       "        <matplotlib.axes._subplots.AxesSubplot object at 0x000002D0CBFDFC88>,\n",
       "        <matplotlib.axes._subplots.AxesSubplot object at 0x000002D0CC01C278>,\n",
       "        <matplotlib.axes._subplots.AxesSubplot object at 0x000002D0CC04C828>,\n",
       "        <matplotlib.axes._subplots.AxesSubplot object at 0x000002D0CC07FDD8>],\n",
       "       [<matplotlib.axes._subplots.AxesSubplot object at 0x000002D0CC0BB3C8>,\n",
       "        <matplotlib.axes._subplots.AxesSubplot object at 0x000002D0CC0ED978>,\n",
       "        <matplotlib.axes._subplots.AxesSubplot object at 0x000002D0CC11FF28>,\n",
       "        <matplotlib.axes._subplots.AxesSubplot object at 0x000002D0CC158518>,\n",
       "        <matplotlib.axes._subplots.AxesSubplot object at 0x000002D0CC18BAC8>,\n",
       "        <matplotlib.axes._subplots.AxesSubplot object at 0x000002D0CC1C80B8>,\n",
       "        <matplotlib.axes._subplots.AxesSubplot object at 0x000002D0CC1F7668>,\n",
       "        <matplotlib.axes._subplots.AxesSubplot object at 0x000002D0CC229C18>,\n",
       "        <matplotlib.axes._subplots.AxesSubplot object at 0x000002D0CC268208>,\n",
       "        <matplotlib.axes._subplots.AxesSubplot object at 0x000002D0CC2967B8>,\n",
       "        <matplotlib.axes._subplots.AxesSubplot object at 0x000002D0CC2C7D68>,\n",
       "        <matplotlib.axes._subplots.AxesSubplot object at 0x000002D0CC305358>,\n",
       "        <matplotlib.axes._subplots.AxesSubplot object at 0x000002D0CC332908>,\n",
       "        <matplotlib.axes._subplots.AxesSubplot object at 0x000002D0CC366EB8>,\n",
       "        <matplotlib.axes._subplots.AxesSubplot object at 0x000002D0CC3A34A8>],\n",
       "       [<matplotlib.axes._subplots.AxesSubplot object at 0x000002D0CC3D2A58>,\n",
       "        <matplotlib.axes._subplots.AxesSubplot object at 0x000002D0CC410048>,\n",
       "        <matplotlib.axes._subplots.AxesSubplot object at 0x000002D0CC43F5F8>,\n",
       "        <matplotlib.axes._subplots.AxesSubplot object at 0x000002D0CC471BA8>,\n",
       "        <matplotlib.axes._subplots.AxesSubplot object at 0x000002D0CC4AF198>,\n",
       "        <matplotlib.axes._subplots.AxesSubplot object at 0x000002D0CC4DD748>,\n",
       "        <matplotlib.axes._subplots.AxesSubplot object at 0x000002D0CC510CF8>,\n",
       "        <matplotlib.axes._subplots.AxesSubplot object at 0x000002D0CC54D2E8>,\n",
       "        <matplotlib.axes._subplots.AxesSubplot object at 0x000002D0CC57C898>,\n",
       "        <matplotlib.axes._subplots.AxesSubplot object at 0x000002D0CC5AEE48>,\n",
       "        <matplotlib.axes._subplots.AxesSubplot object at 0x000002D0CC5EA438>,\n",
       "        <matplotlib.axes._subplots.AxesSubplot object at 0x000002D0CC61C9E8>,\n",
       "        <matplotlib.axes._subplots.AxesSubplot object at 0x000002D0CC64FF98>,\n",
       "        <matplotlib.axes._subplots.AxesSubplot object at 0x000002D0CC68C588>,\n",
       "        <matplotlib.axes._subplots.AxesSubplot object at 0x000002D0CC6BBB38>]],\n",
       "      dtype=object)"
      ]
     },
     "execution_count": 2,
     "metadata": {},
     "output_type": "execute_result"
    }
   ],
   "source": [
    "import pandas as pd\n",
    "import matplotlib.pyplot as plt\n",
    "df = pd.read_csv('train.csv') \n",
    "median_of_crim = df['crim'].median()\n",
    "mode_of_crim = df['crim'].mode()\n",
    "mean_of_crim = df['crim'].mean()\n",
    "pd.plotting.scatter_matrix(df, figsize=(10,10))"
   ]
  },
  {
   "cell_type": "markdown",
   "metadata": {},
   "source": [
    "## Summary\n",
    "\n",
    "Congratulations, you've completed your first \"free form\" exploratory data analysis of a popular dataset!"
   ]
  },
  {
   "cell_type": "code",
   "execution_count": 4,
   "metadata": {},
   "outputs": [
    {
     "ename": "TypeError",
     "evalue": "'['crim']' is an invalid key",
     "output_type": "error",
     "traceback": [
      "\u001b[1;31m---------------------------------------------------------------------------\u001b[0m",
      "\u001b[1;31mTypeError\u001b[0m                                 Traceback (most recent call last)",
      "\u001b[1;32m<ipython-input-4-a8f54a7d1cbb>\u001b[0m in \u001b[0;36m<module>\u001b[1;34m\u001b[0m\n\u001b[1;32m----> 1\u001b[1;33m \u001b[0mdf_crim\u001b[0m \u001b[1;33m=\u001b[0m \u001b[0mdf\u001b[0m\u001b[1;33m.\u001b[0m\u001b[0mloc\u001b[0m\u001b[1;33m[\u001b[0m\u001b[1;33m:\u001b[0m \u001b[1;33m[\u001b[0m\u001b[1;34m'crim'\u001b[0m\u001b[1;33m]\u001b[0m\u001b[1;33m]\u001b[0m\u001b[1;33m\u001b[0m\u001b[1;33m\u001b[0m\u001b[0m\n\u001b[0m",
      "\u001b[1;32mD:\\asdf\\jlkjkjconda\\envs\\learn-env\\lib\\site-packages\\pandas\\core\\indexing.py\u001b[0m in \u001b[0;36m__getitem__\u001b[1;34m(self, key)\u001b[0m\n\u001b[0;32m   1422\u001b[0m \u001b[1;33m\u001b[0m\u001b[0m\n\u001b[0;32m   1423\u001b[0m             \u001b[0mmaybe_callable\u001b[0m \u001b[1;33m=\u001b[0m \u001b[0mcom\u001b[0m\u001b[1;33m.\u001b[0m\u001b[0mapply_if_callable\u001b[0m\u001b[1;33m(\u001b[0m\u001b[0mkey\u001b[0m\u001b[1;33m,\u001b[0m \u001b[0mself\u001b[0m\u001b[1;33m.\u001b[0m\u001b[0mobj\u001b[0m\u001b[1;33m)\u001b[0m\u001b[1;33m\u001b[0m\u001b[1;33m\u001b[0m\u001b[0m\n\u001b[1;32m-> 1424\u001b[1;33m             \u001b[1;32mreturn\u001b[0m \u001b[0mself\u001b[0m\u001b[1;33m.\u001b[0m\u001b[0m_getitem_axis\u001b[0m\u001b[1;33m(\u001b[0m\u001b[0mmaybe_callable\u001b[0m\u001b[1;33m,\u001b[0m \u001b[0maxis\u001b[0m\u001b[1;33m=\u001b[0m\u001b[0maxis\u001b[0m\u001b[1;33m)\u001b[0m\u001b[1;33m\u001b[0m\u001b[1;33m\u001b[0m\u001b[0m\n\u001b[0m\u001b[0;32m   1425\u001b[0m \u001b[1;33m\u001b[0m\u001b[0m\n\u001b[0;32m   1426\u001b[0m     \u001b[1;32mdef\u001b[0m \u001b[0m_is_scalar_access\u001b[0m\u001b[1;33m(\u001b[0m\u001b[0mself\u001b[0m\u001b[1;33m,\u001b[0m \u001b[0mkey\u001b[0m\u001b[1;33m:\u001b[0m \u001b[0mTuple\u001b[0m\u001b[1;33m)\u001b[0m\u001b[1;33m:\u001b[0m\u001b[1;33m\u001b[0m\u001b[1;33m\u001b[0m\u001b[0m\n",
      "\u001b[1;32mD:\\asdf\\jlkjkjconda\\envs\\learn-env\\lib\\site-packages\\pandas\\core\\indexing.py\u001b[0m in \u001b[0;36m_getitem_axis\u001b[1;34m(self, key, axis)\u001b[0m\n\u001b[0;32m   1795\u001b[0m         \u001b[1;32mif\u001b[0m \u001b[0misinstance\u001b[0m\u001b[1;33m(\u001b[0m\u001b[0mkey\u001b[0m\u001b[1;33m,\u001b[0m \u001b[0mslice\u001b[0m\u001b[1;33m)\u001b[0m\u001b[1;33m:\u001b[0m\u001b[1;33m\u001b[0m\u001b[1;33m\u001b[0m\u001b[0m\n\u001b[0;32m   1796\u001b[0m             \u001b[0mself\u001b[0m\u001b[1;33m.\u001b[0m\u001b[0m_validate_key\u001b[0m\u001b[1;33m(\u001b[0m\u001b[0mkey\u001b[0m\u001b[1;33m,\u001b[0m \u001b[0maxis\u001b[0m\u001b[1;33m)\u001b[0m\u001b[1;33m\u001b[0m\u001b[1;33m\u001b[0m\u001b[0m\n\u001b[1;32m-> 1797\u001b[1;33m             \u001b[1;32mreturn\u001b[0m \u001b[0mself\u001b[0m\u001b[1;33m.\u001b[0m\u001b[0m_get_slice_axis\u001b[0m\u001b[1;33m(\u001b[0m\u001b[0mkey\u001b[0m\u001b[1;33m,\u001b[0m \u001b[0maxis\u001b[0m\u001b[1;33m=\u001b[0m\u001b[0maxis\u001b[0m\u001b[1;33m)\u001b[0m\u001b[1;33m\u001b[0m\u001b[1;33m\u001b[0m\u001b[0m\n\u001b[0m\u001b[0;32m   1798\u001b[0m         \u001b[1;32melif\u001b[0m \u001b[0mcom\u001b[0m\u001b[1;33m.\u001b[0m\u001b[0mis_bool_indexer\u001b[0m\u001b[1;33m(\u001b[0m\u001b[0mkey\u001b[0m\u001b[1;33m)\u001b[0m\u001b[1;33m:\u001b[0m\u001b[1;33m\u001b[0m\u001b[1;33m\u001b[0m\u001b[0m\n\u001b[0;32m   1799\u001b[0m             \u001b[1;32mreturn\u001b[0m \u001b[0mself\u001b[0m\u001b[1;33m.\u001b[0m\u001b[0m_getbool_axis\u001b[0m\u001b[1;33m(\u001b[0m\u001b[0mkey\u001b[0m\u001b[1;33m,\u001b[0m \u001b[0maxis\u001b[0m\u001b[1;33m=\u001b[0m\u001b[0maxis\u001b[0m\u001b[1;33m)\u001b[0m\u001b[1;33m\u001b[0m\u001b[1;33m\u001b[0m\u001b[0m\n",
      "\u001b[1;32mD:\\asdf\\jlkjkjconda\\envs\\learn-env\\lib\\site-packages\\pandas\\core\\indexing.py\u001b[0m in \u001b[0;36m_get_slice_axis\u001b[1;34m(self, slice_obj, axis)\u001b[0m\n\u001b[0;32m   1452\u001b[0m         \u001b[0mlabels\u001b[0m \u001b[1;33m=\u001b[0m \u001b[0mobj\u001b[0m\u001b[1;33m.\u001b[0m\u001b[0m_get_axis\u001b[0m\u001b[1;33m(\u001b[0m\u001b[0maxis\u001b[0m\u001b[1;33m)\u001b[0m\u001b[1;33m\u001b[0m\u001b[1;33m\u001b[0m\u001b[0m\n\u001b[0;32m   1453\u001b[0m         indexer = labels.slice_indexer(\n\u001b[1;32m-> 1454\u001b[1;33m             \u001b[0mslice_obj\u001b[0m\u001b[1;33m.\u001b[0m\u001b[0mstart\u001b[0m\u001b[1;33m,\u001b[0m \u001b[0mslice_obj\u001b[0m\u001b[1;33m.\u001b[0m\u001b[0mstop\u001b[0m\u001b[1;33m,\u001b[0m \u001b[0mslice_obj\u001b[0m\u001b[1;33m.\u001b[0m\u001b[0mstep\u001b[0m\u001b[1;33m,\u001b[0m \u001b[0mkind\u001b[0m\u001b[1;33m=\u001b[0m\u001b[0mself\u001b[0m\u001b[1;33m.\u001b[0m\u001b[0mname\u001b[0m\u001b[1;33m\u001b[0m\u001b[1;33m\u001b[0m\u001b[0m\n\u001b[0m\u001b[0;32m   1455\u001b[0m         )\n\u001b[0;32m   1456\u001b[0m \u001b[1;33m\u001b[0m\u001b[0m\n",
      "\u001b[1;32mD:\\asdf\\jlkjkjconda\\envs\\learn-env\\lib\\site-packages\\pandas\\core\\indexes\\base.py\u001b[0m in \u001b[0;36mslice_indexer\u001b[1;34m(self, start, end, step, kind)\u001b[0m\n\u001b[0;32m   5032\u001b[0m         \u001b[0mslice\u001b[0m\u001b[1;33m(\u001b[0m\u001b[1;36m1\u001b[0m\u001b[1;33m,\u001b[0m \u001b[1;36m3\u001b[0m\u001b[1;33m)\u001b[0m\u001b[1;33m\u001b[0m\u001b[1;33m\u001b[0m\u001b[0m\n\u001b[0;32m   5033\u001b[0m         \"\"\"\n\u001b[1;32m-> 5034\u001b[1;33m         \u001b[0mstart_slice\u001b[0m\u001b[1;33m,\u001b[0m \u001b[0mend_slice\u001b[0m \u001b[1;33m=\u001b[0m \u001b[0mself\u001b[0m\u001b[1;33m.\u001b[0m\u001b[0mslice_locs\u001b[0m\u001b[1;33m(\u001b[0m\u001b[0mstart\u001b[0m\u001b[1;33m,\u001b[0m \u001b[0mend\u001b[0m\u001b[1;33m,\u001b[0m \u001b[0mstep\u001b[0m\u001b[1;33m=\u001b[0m\u001b[0mstep\u001b[0m\u001b[1;33m,\u001b[0m \u001b[0mkind\u001b[0m\u001b[1;33m=\u001b[0m\u001b[0mkind\u001b[0m\u001b[1;33m)\u001b[0m\u001b[1;33m\u001b[0m\u001b[1;33m\u001b[0m\u001b[0m\n\u001b[0m\u001b[0;32m   5035\u001b[0m \u001b[1;33m\u001b[0m\u001b[0m\n\u001b[0;32m   5036\u001b[0m         \u001b[1;31m# return a slice\u001b[0m\u001b[1;33m\u001b[0m\u001b[1;33m\u001b[0m\u001b[1;33m\u001b[0m\u001b[0m\n",
      "\u001b[1;32mD:\\asdf\\jlkjkjconda\\envs\\learn-env\\lib\\site-packages\\pandas\\core\\indexes\\base.py\u001b[0m in \u001b[0;36mslice_locs\u001b[1;34m(self, start, end, step, kind)\u001b[0m\n\u001b[0;32m   5252\u001b[0m         \u001b[0mend_slice\u001b[0m \u001b[1;33m=\u001b[0m \u001b[1;32mNone\u001b[0m\u001b[1;33m\u001b[0m\u001b[1;33m\u001b[0m\u001b[0m\n\u001b[0;32m   5253\u001b[0m         \u001b[1;32mif\u001b[0m \u001b[0mend\u001b[0m \u001b[1;32mis\u001b[0m \u001b[1;32mnot\u001b[0m \u001b[1;32mNone\u001b[0m\u001b[1;33m:\u001b[0m\u001b[1;33m\u001b[0m\u001b[1;33m\u001b[0m\u001b[0m\n\u001b[1;32m-> 5254\u001b[1;33m             \u001b[0mend_slice\u001b[0m \u001b[1;33m=\u001b[0m \u001b[0mself\u001b[0m\u001b[1;33m.\u001b[0m\u001b[0mget_slice_bound\u001b[0m\u001b[1;33m(\u001b[0m\u001b[0mend\u001b[0m\u001b[1;33m,\u001b[0m \u001b[1;34m\"right\"\u001b[0m\u001b[1;33m,\u001b[0m \u001b[0mkind\u001b[0m\u001b[1;33m)\u001b[0m\u001b[1;33m\u001b[0m\u001b[1;33m\u001b[0m\u001b[0m\n\u001b[0m\u001b[0;32m   5255\u001b[0m         \u001b[1;32mif\u001b[0m \u001b[0mend_slice\u001b[0m \u001b[1;32mis\u001b[0m \u001b[1;32mNone\u001b[0m\u001b[1;33m:\u001b[0m\u001b[1;33m\u001b[0m\u001b[1;33m\u001b[0m\u001b[0m\n\u001b[0;32m   5256\u001b[0m             \u001b[0mend_slice\u001b[0m \u001b[1;33m=\u001b[0m \u001b[0mlen\u001b[0m\u001b[1;33m(\u001b[0m\u001b[0mself\u001b[0m\u001b[1;33m)\u001b[0m\u001b[1;33m\u001b[0m\u001b[1;33m\u001b[0m\u001b[0m\n",
      "\u001b[1;32mD:\\asdf\\jlkjkjconda\\envs\\learn-env\\lib\\site-packages\\pandas\\core\\indexes\\base.py\u001b[0m in \u001b[0;36mget_slice_bound\u001b[1;34m(self, label, side, kind)\u001b[0m\n\u001b[0;32m   5162\u001b[0m         \u001b[1;31m# we need to look up the label\u001b[0m\u001b[1;33m\u001b[0m\u001b[1;33m\u001b[0m\u001b[1;33m\u001b[0m\u001b[0m\n\u001b[0;32m   5163\u001b[0m         \u001b[1;32mtry\u001b[0m\u001b[1;33m:\u001b[0m\u001b[1;33m\u001b[0m\u001b[1;33m\u001b[0m\u001b[0m\n\u001b[1;32m-> 5164\u001b[1;33m             \u001b[0mslc\u001b[0m \u001b[1;33m=\u001b[0m \u001b[0mself\u001b[0m\u001b[1;33m.\u001b[0m\u001b[0mget_loc\u001b[0m\u001b[1;33m(\u001b[0m\u001b[0mlabel\u001b[0m\u001b[1;33m)\u001b[0m\u001b[1;33m\u001b[0m\u001b[1;33m\u001b[0m\u001b[0m\n\u001b[0m\u001b[0;32m   5165\u001b[0m         \u001b[1;32mexcept\u001b[0m \u001b[0mKeyError\u001b[0m \u001b[1;32mas\u001b[0m \u001b[0merr\u001b[0m\u001b[1;33m:\u001b[0m\u001b[1;33m\u001b[0m\u001b[1;33m\u001b[0m\u001b[0m\n\u001b[0;32m   5166\u001b[0m             \u001b[1;32mtry\u001b[0m\u001b[1;33m:\u001b[0m\u001b[1;33m\u001b[0m\u001b[1;33m\u001b[0m\u001b[0m\n",
      "\u001b[1;32mD:\\asdf\\jlkjkjconda\\envs\\learn-env\\lib\\site-packages\\pandas\\core\\indexes\\range.py\u001b[0m in \u001b[0;36mget_loc\u001b[1;34m(self, key, method, tolerance)\u001b[0m\n\u001b[0;32m    377\u001b[0m             \u001b[1;32mexcept\u001b[0m \u001b[0mValueError\u001b[0m\u001b[1;33m:\u001b[0m\u001b[1;33m\u001b[0m\u001b[1;33m\u001b[0m\u001b[0m\n\u001b[0;32m    378\u001b[0m                 \u001b[1;32mraise\u001b[0m \u001b[0mKeyError\u001b[0m\u001b[1;33m(\u001b[0m\u001b[0mkey\u001b[0m\u001b[1;33m)\u001b[0m\u001b[1;33m\u001b[0m\u001b[1;33m\u001b[0m\u001b[0m\n\u001b[1;32m--> 379\u001b[1;33m         \u001b[1;32mreturn\u001b[0m \u001b[0msuper\u001b[0m\u001b[1;33m(\u001b[0m\u001b[1;33m)\u001b[0m\u001b[1;33m.\u001b[0m\u001b[0mget_loc\u001b[0m\u001b[1;33m(\u001b[0m\u001b[0mkey\u001b[0m\u001b[1;33m,\u001b[0m \u001b[0mmethod\u001b[0m\u001b[1;33m=\u001b[0m\u001b[0mmethod\u001b[0m\u001b[1;33m,\u001b[0m \u001b[0mtolerance\u001b[0m\u001b[1;33m=\u001b[0m\u001b[0mtolerance\u001b[0m\u001b[1;33m)\u001b[0m\u001b[1;33m\u001b[0m\u001b[1;33m\u001b[0m\u001b[0m\n\u001b[0m\u001b[0;32m    380\u001b[0m \u001b[1;33m\u001b[0m\u001b[0m\n\u001b[0;32m    381\u001b[0m     \u001b[1;33m@\u001b[0m\u001b[0mAppender\u001b[0m\u001b[1;33m(\u001b[0m\u001b[0m_index_shared_docs\u001b[0m\u001b[1;33m[\u001b[0m\u001b[1;34m\"get_indexer\"\u001b[0m\u001b[1;33m]\u001b[0m\u001b[1;33m)\u001b[0m\u001b[1;33m\u001b[0m\u001b[1;33m\u001b[0m\u001b[0m\n",
      "\u001b[1;32mD:\\asdf\\jlkjkjconda\\envs\\learn-env\\lib\\site-packages\\pandas\\core\\indexes\\base.py\u001b[0m in \u001b[0;36mget_loc\u001b[1;34m(self, key, method, tolerance)\u001b[0m\n\u001b[0;32m   2895\u001b[0m                 )\n\u001b[0;32m   2896\u001b[0m             \u001b[1;32mtry\u001b[0m\u001b[1;33m:\u001b[0m\u001b[1;33m\u001b[0m\u001b[1;33m\u001b[0m\u001b[0m\n\u001b[1;32m-> 2897\u001b[1;33m                 \u001b[1;32mreturn\u001b[0m \u001b[0mself\u001b[0m\u001b[1;33m.\u001b[0m\u001b[0m_engine\u001b[0m\u001b[1;33m.\u001b[0m\u001b[0mget_loc\u001b[0m\u001b[1;33m(\u001b[0m\u001b[0mkey\u001b[0m\u001b[1;33m)\u001b[0m\u001b[1;33m\u001b[0m\u001b[1;33m\u001b[0m\u001b[0m\n\u001b[0m\u001b[0;32m   2898\u001b[0m             \u001b[1;32mexcept\u001b[0m \u001b[0mKeyError\u001b[0m\u001b[1;33m:\u001b[0m\u001b[1;33m\u001b[0m\u001b[1;33m\u001b[0m\u001b[0m\n\u001b[0;32m   2899\u001b[0m                 \u001b[1;32mreturn\u001b[0m \u001b[0mself\u001b[0m\u001b[1;33m.\u001b[0m\u001b[0m_engine\u001b[0m\u001b[1;33m.\u001b[0m\u001b[0mget_loc\u001b[0m\u001b[1;33m(\u001b[0m\u001b[0mself\u001b[0m\u001b[1;33m.\u001b[0m\u001b[0m_maybe_cast_indexer\u001b[0m\u001b[1;33m(\u001b[0m\u001b[0mkey\u001b[0m\u001b[1;33m)\u001b[0m\u001b[1;33m)\u001b[0m\u001b[1;33m\u001b[0m\u001b[1;33m\u001b[0m\u001b[0m\n",
      "\u001b[1;32mpandas\\_libs\\index.pyx\u001b[0m in \u001b[0;36mpandas._libs.index.IndexEngine.get_loc\u001b[1;34m()\u001b[0m\n",
      "\u001b[1;32mpandas\\_libs\\index.pyx\u001b[0m in \u001b[0;36mpandas._libs.index.IndexEngine.get_loc\u001b[1;34m()\u001b[0m\n",
      "\u001b[1;31mTypeError\u001b[0m: '['crim']' is an invalid key"
     ]
    }
   ],
   "source": [
    "df_crim = df.loc[: ['crim']]"
   ]
  },
  {
   "cell_type": "code",
   "execution_count": 5,
   "metadata": {},
   "outputs": [
    {
     "data": {
      "image/png": "[encoded data removed]",
      "text/plain": [
       "<Figure size 432x288 with 1 Axes>"
      ]
     },
     "metadata": {
      "needs_background": "light"
     },
     "output_type": "display_data"
    }
   ],
   "source": [
    "df['dis'].hist();\n",
    "plt.title('Distribution of Mean Distances to 5 Boston Employment Centers')\n",
    "plt.xlabel('Mean Distance to Employment Centers')\n",
    "plt.ylabel('Number of houses');\n"
   ]
  },
  {
   "cell_type": "code",
   "execution_count": 6,
   "metadata": {},
   "outputs": [
    {
     "data": {
      "text/plain": [
       "<matplotlib.axes._subplots.AxesSubplot at 0x2d0ce84ef60>"
      ]
     },
     "execution_count": 6,
     "metadata": {},
     "output_type": "execute_result"
    },
    {
     "data": {
      "image/png": "[encoded data removed]",
      "text/plain": [
       "<Figure size 432x288 with 1 Axes>"
      ]
     },
     "metadata": {
      "needs_background": "light"
     },
     "output_type": "display_data"
    }
   ],
   "source": [
    "df['crim'].hist()"
   ]
  },
  {
   "cell_type": "code",
   "execution_count": 7,
   "metadata": {},
   "outputs": [
    {
     "data": {
      "image/png": "[encoded data removed]",
      "text/plain": [
       "<Figure size 432x288 with 1 Axes>"
      ]
     },
     "metadata": {
      "needs_background": "light"
     },
     "output_type": "display_data"
    }
   ],
   "source": [
    "df['crim'].plot(kind='box');"
   ]
  },
  {
   "cell_type": "code",
   "execution_count": 9,
   "metadata": {},
   "outputs": [
    {
     "ename": "AttributeError",
     "evalue": "'DataFrame' object has no attribute 'corrcoef'",
     "output_type": "error",
     "traceback": [
      "\u001b[1;31m---------------------------------------------------------------------------\u001b[0m",
      "\u001b[1;31mAttributeError\u001b[0m                            Traceback (most recent call last)",
      "\u001b[1;32m<ipython-input-9-ad9af808fffe>\u001b[0m in \u001b[0;36m<module>\u001b[1;34m\u001b[0m\n\u001b[0;32m      1\u001b[0m \u001b[1;32mfor\u001b[0m \u001b[0mn\u001b[0m\u001b[1;33m,\u001b[0m \u001b[0mfeat1\u001b[0m \u001b[1;32min\u001b[0m \u001b[0menumerate\u001b[0m\u001b[1;33m(\u001b[0m\u001b[0mdf\u001b[0m\u001b[1;33m.\u001b[0m\u001b[0mcolumns\u001b[0m\u001b[1;33m)\u001b[0m\u001b[1;33m:\u001b[0m\u001b[1;33m\u001b[0m\u001b[1;33m\u001b[0m\u001b[0m\n\u001b[0;32m      2\u001b[0m     \u001b[1;32mfor\u001b[0m \u001b[0mfeat2\u001b[0m \u001b[1;32min\u001b[0m \u001b[0mdf\u001b[0m\u001b[1;33m.\u001b[0m\u001b[0mcolumns\u001b[0m\u001b[1;33m[\u001b[0m\u001b[0mn\u001b[0m\u001b[1;33m+\u001b[0m\u001b[1;36m1\u001b[0m\u001b[1;33m:\u001b[0m\u001b[1;33m]\u001b[0m\u001b[1;33m:\u001b[0m\u001b[1;33m\u001b[0m\u001b[1;33m\u001b[0m\u001b[0m\n\u001b[1;32m----> 3\u001b[1;33m         \u001b[0mr2\u001b[0m \u001b[1;33m=\u001b[0m \u001b[0mdf\u001b[0m\u001b[1;33m.\u001b[0m\u001b[0mcorrcoef\u001b[0m\u001b[1;33m(\u001b[0m\u001b[0mdf\u001b[0m\u001b[1;33m[\u001b[0m\u001b[0mfeat1\u001b[0m\u001b[1;33m]\u001b[0m\u001b[1;33m,\u001b[0m \u001b[0mdf\u001b[0m\u001b[1;33m[\u001b[0m\u001b[0mfeat2\u001b[0m\u001b[1;33m]\u001b[0m\u001b[1;33m)\u001b[0m\u001b[1;33m[\u001b[0m\u001b[1;36m0\u001b[0m\u001b[1;33m]\u001b[0m\u001b[1;33m[\u001b[0m\u001b[1;36m1\u001b[0m\u001b[1;33m]\u001b[0m\u001b[1;33m\u001b[0m\u001b[1;33m\u001b[0m\u001b[0m\n\u001b[0m\u001b[0;32m      4\u001b[0m         \u001b[1;32mif\u001b[0m \u001b[0mr2\u001b[0m \u001b[1;33m>\u001b[0m \u001b[1;36m.7\u001b[0m\u001b[1;33m:\u001b[0m\u001b[1;33m\u001b[0m\u001b[1;33m\u001b[0m\u001b[0m\n\u001b[0;32m      5\u001b[0m             \u001b[0mprint\u001b[0m\u001b[1;33m(\u001b[0m\u001b[1;34m'{} and {} have a correlation coefficient of {}!'\u001b[0m\u001b[1;33m.\u001b[0m\u001b[0mformat\u001b[0m\u001b[1;33m(\u001b[0m\u001b[0mfeat1\u001b[0m\u001b[1;33m,\u001b[0m \u001b[0mfeat2\u001b[0m\u001b[1;33m,\u001b[0m \u001b[0mr2\u001b[0m\u001b[1;33m)\u001b[0m\u001b[1;33m)\u001b[0m\u001b[1;33m\u001b[0m\u001b[1;33m\u001b[0m\u001b[0m\n",
      "\u001b[1;32mD:\\asdf\\jlkjkjconda\\envs\\learn-env\\lib\\site-packages\\pandas\\core\\generic.py\u001b[0m in \u001b[0;36m__getattr__\u001b[1;34m(self, name)\u001b[0m\n\u001b[0;32m   5177\u001b[0m             \u001b[1;32mif\u001b[0m \u001b[0mself\u001b[0m\u001b[1;33m.\u001b[0m\u001b[0m_info_axis\u001b[0m\u001b[1;33m.\u001b[0m\u001b[0m_can_hold_identifiers_and_holds_name\u001b[0m\u001b[1;33m(\u001b[0m\u001b[0mname\u001b[0m\u001b[1;33m)\u001b[0m\u001b[1;33m:\u001b[0m\u001b[1;33m\u001b[0m\u001b[1;33m\u001b[0m\u001b[0m\n\u001b[0;32m   5178\u001b[0m                 \u001b[1;32mreturn\u001b[0m \u001b[0mself\u001b[0m\u001b[1;33m[\u001b[0m\u001b[0mname\u001b[0m\u001b[1;33m]\u001b[0m\u001b[1;33m\u001b[0m\u001b[1;33m\u001b[0m\u001b[0m\n\u001b[1;32m-> 5179\u001b[1;33m             \u001b[1;32mreturn\u001b[0m \u001b[0mobject\u001b[0m\u001b[1;33m.\u001b[0m\u001b[0m__getattribute__\u001b[0m\u001b[1;33m(\u001b[0m\u001b[0mself\u001b[0m\u001b[1;33m,\u001b[0m \u001b[0mname\u001b[0m\u001b[1;33m)\u001b[0m\u001b[1;33m\u001b[0m\u001b[1;33m\u001b[0m\u001b[0m\n\u001b[0m\u001b[0;32m   5180\u001b[0m \u001b[1;33m\u001b[0m\u001b[0m\n\u001b[0;32m   5181\u001b[0m     \u001b[1;32mdef\u001b[0m \u001b[0m__setattr__\u001b[0m\u001b[1;33m(\u001b[0m\u001b[0mself\u001b[0m\u001b[1;33m,\u001b[0m \u001b[0mname\u001b[0m\u001b[1;33m,\u001b[0m \u001b[0mvalue\u001b[0m\u001b[1;33m)\u001b[0m\u001b[1;33m:\u001b[0m\u001b[1;33m\u001b[0m\u001b[1;33m\u001b[0m\u001b[0m\n",
      "\u001b[1;31mAttributeError\u001b[0m: 'DataFrame' object has no attribute 'corrcoef'"
     ]
    }
   ],
   "source": [
    "for n, feat1 in enumerate(df.columns):\n",
    "    for feat2 in df.columns[n+1:]:\n",
    "        r2 = df.corrcoef(df[feat1], df[feat2])[0][1]\n",
    "        if r2 > .7:\n",
    "            print('{} and {} have a correlation coefficient of {}!'.format(feat1, feat2, r2))"
   ]
  },
  {
   "cell_type": "code",
   "execution_count": null,
   "metadata": {},
   "outputs": [],
   "source": []
  }
 ],
 "metadata": {
  "kernelspec": {
   "display_name": "Python 3",
   "language": "python",
   "name": "python3"
  },
  "language_info": {
   "codemirror_mode": {
    "name": "ipython",
    "version": 3
   },
   "file_extension": ".py",
   "mimetype": "text/x-python",
   "name": "python",
   "nbconvert_exporter": "python",
   "pygments_lexer": "ipython3",
   "version": "3.6.9"
  }
 },
 "nbformat": 4,
 "nbformat_minor": 2
}
